{
 "cells": [
  {
   "cell_type": "code",
   "execution_count": 493,
   "metadata": {},
   "outputs": [],
   "source": [
    "#importando o Pulp\n",
    "from pulp import *"
   ]
  },
  {
   "cell_type": "code",
   "execution_count": 494,
   "metadata": {},
   "outputs": [],
   "source": [
    "class Nutrientes:\n",
    "    def __init__(self, glicose = 0, sodio = 0):\n",
    "        self.nutrientes ={\n",
    "            \"glicose\" : glicose,\n",
    "            \"sodio\" : sodio,\n",
    "        }"
   ]
  },
  {
   "cell_type": "code",
   "execution_count": 495,
   "metadata": {},
   "outputs": [],
   "source": [
    "class Alimento:\n",
    "    def __init__(self, nome = \"\", preco = 0, peso = 0, glicose = 0, sodio = 0):   \n",
    "        self.nome = nome\n",
    "        self.preco = preco\n",
    "        self.peso = peso\n",
    "        self.nutrientes = Nutrientes(glicose, sodio)\n",
    "        "
   ]
  },
  {
   "cell_type": "code",
   "execution_count": 496,
   "metadata": {},
   "outputs": [],
   "source": [
    "class Sistema:\n",
    "    prob = LpProblem(\"Dieta nutricional\", LpMinimize)\n",
    "    \n",
    "    def __init__(self, termosIndependes = [] , alimentos = [], qtdMaxAlimentos = [] ):      \n",
    "        self.termosIndependentes = termosIndependes\n",
    "        self.alimentos = alimentos \n",
    "        self.qtdMaxAlimentos = qtdMaxAlimentos\n",
    "        self.variaveis = []\n",
    "        \n",
    "    def adicionaFruta(self, alimento = None , qtdMax = None):\n",
    "        self.alimentos.append(alimento)\n",
    "        self.qtdMaxAlimentos.append(qtdMax)\n",
    "        \n",
    "    def adicionaTermosIndependentes(self,termosIndependentes = None):\n",
    "        self.termosIndependentes.append(termosIndependentes)  \n",
    "        \n",
    "    def __criaVariaveis(self):\n",
    "        for i in range(len(self.alimentos)):\n",
    "            self.variaveis.append(LpVariable(name = self.alimentos[i].nome, cat='Integer', lowBound=0, upBound = self.qtdMaxAlimentos[i]))\n",
    "    \n",
    "    def __criaEquacoes(self):   \n",
    "        self.prob += lpSum(self.alimentos[i].preco*self.variaveis[i] for i in range(len(self.alimentos)))\n",
    "        \n",
    "        for chaveNutriente in self.termosIndependentes.nutrientes.keys():\n",
    "            self.prob += lpSum(self.alimentos[i].nutrientes.nutrientes[chaveNutriente]*self.variaveis[i] for i in range(len(self.alimentos))) >= self.termosIndependentes.nutrientes[chaveNutriente]\n",
    "            \n",
    "    def resolver(self):\n",
    "        self.__criaVariaveis()\n",
    "        self.__criaEquacoes()\n",
    "        self.prob.solve()\n",
    "    \n",
    "    def mostrarResultados(self):\n",
    "        precoTotal = 0\n",
    "        for i in range(len(self.alimentos)):\n",
    "            print(self.alimentos[i].nome+ \" : \" + str(self.variaveis[i].varValue))\n",
    "            precoTotal += self.alimentos[i].preco*self.variaveis[i].varValue\n",
    "        \n",
    "        print(\"Preco total:\" + str(precoTotal))"
   ]
  },
  {
   "cell_type": "code",
   "execution_count": 497,
   "metadata": {},
   "outputs": [],
   "source": [
    "banana = Alimento(\"banana\", preco = 2, peso= 100 , glicose = 0.5 , sodio = 0.1)\n",
    "maca = Alimento(\"maçã\", preco =2 , peso = 200 , glicose = 0.2 , sodio = 0.3)\n",
    "\n",
    "restricoes = Nutrientes(5, 3)"
   ]
  },
  {
   "cell_type": "code",
   "execution_count": 498,
   "metadata": {},
   "outputs": [],
   "source": [
    "sistema = Sistema(termosIndependes = restricoes)"
   ]
  },
  {
   "cell_type": "code",
   "execution_count": 499,
   "metadata": {},
   "outputs": [],
   "source": [
    "sistema.adicionaFruta(banana)\n",
    "sistema.adicionaFruta(maca)"
   ]
  },
  {
   "cell_type": "code",
   "execution_count": 500,
   "metadata": {},
   "outputs": [
    {
     "data": {
      "text/plain": [
       "0.1"
      ]
     },
     "execution_count": 500,
     "metadata": {},
     "output_type": "execute_result"
    }
   ],
   "source": [
    "sistema.alimentos[0].nutrientes.nutrientes[\"sodio\"]"
   ]
  },
  {
   "cell_type": "code",
   "execution_count": 501,
   "metadata": {},
   "outputs": [],
   "source": [
    "sistema.resolver()"
   ]
  },
  {
   "cell_type": "code",
   "execution_count": 502,
   "metadata": {},
   "outputs": [
    {
     "name": "stdout",
     "output_type": "stream",
     "text": [
      "banana : 7.0\n",
      "maçã : 8.0\n",
      "Preco total:30.0\n"
     ]
    }
   ],
   "source": [
    "sistema.mostrarResultados()"
   ]
  }
 ],
 "metadata": {
  "kernelspec": {
   "display_name": "Python 3",
   "language": "python",
   "name": "python3"
  },
  "language_info": {
   "codemirror_mode": {
    "name": "ipython",
    "version": 3
   },
   "file_extension": ".py",
   "mimetype": "text/x-python",
   "name": "python",
   "nbconvert_exporter": "python",
   "pygments_lexer": "ipython3",
   "version": "3.8.3"
  }
 },
 "nbformat": 4,
 "nbformat_minor": 4
}
