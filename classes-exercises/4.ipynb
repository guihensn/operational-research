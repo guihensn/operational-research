{
 "cells": [
  {
   "cell_type": "code",
   "execution_count": 11,
   "metadata": {},
   "outputs": [
    {
     "name": "stdout",
     "output_type": "stream",
     "text": [
      "x = {1: 125.0, 2: 875.0}\n"
     ]
    }
   ],
   "source": [
    "#importando o PulP\n",
    "import pulp\n",
    "\n",
    "#Definindo o modelo\n",
    "model = pulp.LpProblem('4', sense = pulp.LpMaximize)\n",
    "\n",
    "#Adicionando as variáveis\n",
    "x = pulp.LpVariable.dicts(indexs=[1,2,3], cat=pulp.LpContinuous, lowBound=0, name='x')\n",
    "\n",
    "#Adicionando as restrições\n",
    "model.addConstraint(2*x[1] + 3*x[2] <= 3000, name='restricao_1')\n",
    "model.addConstraint(4*x[1] + 2*x[2] <= 4000, name='restricao_2')\n",
    "model.addConstraint(1*x[1] + 5*x[2] <= 4500, name='restricao_3')\n",
    "model.addConstraint(x[1] + x[2] <= 1000, name='restricao_4')\n",
    "\n",
    "#Funcao Objetivo\n",
    "model.setObjective(20 * x[1] + 26 * x[2])\n",
    "\n",
    "#Optimizar\n",
    "model.solve()\n",
    "\n",
    "#Obter e imprimir a solução\n",
    "x_sol = {i: x[i].value() for i in [1, 2 ]}\n",
    "print(f'x = {x_sol}')\n"
   ]
  }
 ],
 "metadata": {
  "kernelspec": {
   "display_name": "Python 3",
   "language": "python",
   "name": "python3"
  },
  "language_info": {
   "codemirror_mode": {
    "name": "ipython",
    "version": 3
   },
   "file_extension": ".py",
   "mimetype": "text/x-python",
   "name": "python",
   "nbconvert_exporter": "python",
   "pygments_lexer": "ipython3",
   "version": "3.8.3"
  }
 },
 "nbformat": 4,
 "nbformat_minor": 4
}
