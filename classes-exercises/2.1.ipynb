{
 "cells": [
  {
   "cell_type": "code",
   "execution_count": 1,
   "metadata": {},
   "outputs": [
    {
     "name": "stdout",
     "output_type": "stream",
     "text": [
      "x = {1: 3.0, 2: 0.0}\n"
     ]
    }
   ],
   "source": [
    "#importando o PulP\n",
    "import pulp\n",
    "\n",
    "#Definindo o modelo\n",
    "model = pulp.LpProblem('2.1', sense = pulp.LpMaximize)\n",
    "\n",
    "#Adicionando as variáveis\n",
    "x = pulp.LpVariable.dicts(indexs=[1,2], cat=pulp.LpContinuous, lowBound=0, name='x')\n",
    "\n",
    "#Adicionando as restrições\n",
    "model.addConstraint(2*x[1] + x[2] <= 6, name='restricao_1')\n",
    "model.addConstraint(10*x[1] + 12*x[2] <= 60, name='restricao_2')\n",
    "\n",
    "#Funcao Objetivo\n",
    "model.setObjective(5 * x[1] + 2 * x[2])\n",
    "\n",
    "#Optimizar\n",
    "model.solve()\n",
    "\n",
    "#Obter e imprimir a solução\n",
    "x_sol = {i: x[i].value() for i in [1, 2 ]}\n",
    "print(f'x = {x_sol}')"
   ]
  },
  {
   "cell_type": "code",
   "execution_count": null,
   "metadata": {},
   "outputs": [],
   "source": []
  }
 ],
 "metadata": {
  "kernelspec": {
   "display_name": "Python 3",
   "language": "python",
   "name": "python3"
  },
  "language_info": {
   "codemirror_mode": {
    "name": "ipython",
    "version": 3
   },
   "file_extension": ".py",
   "mimetype": "text/x-python",
   "name": "python",
   "nbconvert_exporter": "python",
   "pygments_lexer": "ipython3",
   "version": "3.8.3"
  }
 },
 "nbformat": 4,
 "nbformat_minor": 4
}
