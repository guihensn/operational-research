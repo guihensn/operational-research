{
 "cells": [
  {
   "cell_type": "code",
   "execution_count": 2,
   "metadata": {},
   "outputs": [],
   "source": [
    "#importando o PulP\n",
    "import pulp"
   ]
  },
  {
   "cell_type": "code",
   "execution_count": 13,
   "metadata": {},
   "outputs": [],
   "source": [
    "#Definindo o modelo\n",
    "model = pulp.LpProblem('Exemplo1', sense = pulp.LpMaximize)"
   ]
  },
  {
   "cell_type": "code",
   "execution_count": 14,
   "metadata": {},
   "outputs": [],
   "source": [
    "#Adicionando as variáveis\n",
    "x = pulp.LpVariable.dicts(indexs=[1,2,3,4,5], cat=pulp.LpContinuous, lowBound=0, name='x')"
   ]
  },
  {
   "cell_type": "code",
   "execution_count": 15,
   "metadata": {},
   "outputs": [],
   "source": [
    "#Adicionando as restrições\n",
    "model.addConstraint(2*x[1] + 4*x[2] + x[3] == 10, name='restricao_1')\n",
    "model.addConstraint(6*x[1] + x[2] + x[4] == 20, name='restricao_2')\n",
    "model.addConstraint(x[1] - x[2] + x[5] == 30, name='restricao_3')"
   ]
  },
  {
   "cell_type": "code",
   "execution_count": 16,
   "metadata": {},
   "outputs": [],
   "source": [
    "#Funcao Objetivo\n",
    "model.setObjective(3 * x[1] + 5 * x[2])"
   ]
  },
  {
   "cell_type": "code",
   "execution_count": 18,
   "metadata": {},
   "outputs": [
    {
     "data": {
      "text/plain": [
       "1"
      ]
     },
     "execution_count": 18,
     "metadata": {},
     "output_type": "execute_result"
    }
   ],
   "source": [
    "#Optimizar\n",
    "model.solve()"
   ]
  },
  {
   "cell_type": "code",
   "execution_count": 19,
   "metadata": {},
   "outputs": [
    {
     "name": "stdout",
     "output_type": "stream",
     "text": [
      "x = {1: 3.1818182, 2: 0.90909091, 3: 0.0, 4: 0.0, 5: 27.727273}\n"
     ]
    }
   ],
   "source": [
    "#Obter e imprimir a solução\n",
    "x_sol = {i: x[i].value() for i in [1, 2, 3, 4, 5]}\n",
    "print(f'x = {x_sol}')"
   ]
  },
  {
   "cell_type": "code",
   "execution_count": null,
   "metadata": {},
   "outputs": [],
   "source": []
  }
 ],
 "metadata": {
  "kernelspec": {
   "display_name": "Python 3",
   "language": "python",
   "name": "python3"
  },
  "language_info": {
   "codemirror_mode": {
    "name": "ipython",
    "version": 3
   },
   "file_extension": ".py",
   "mimetype": "text/x-python",
   "name": "python",
   "nbconvert_exporter": "python",
   "pygments_lexer": "ipython3",
   "version": "3.8.3"
  }
 },
 "nbformat": 4,
 "nbformat_minor": 4
}
