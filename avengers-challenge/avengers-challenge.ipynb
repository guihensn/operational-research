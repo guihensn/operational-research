{
 "cells": [
  {
   "cell_type": "code",
   "execution_count": 53,
   "metadata": {},
   "outputs": [],
   "source": [
    "#importando o PulP\n",
    "import pulp"
   ]
  },
  {
   "cell_type": "code",
   "execution_count": 54,
   "metadata": {},
   "outputs": [],
   "source": [
    "#Definindo o modelo\n",
    "model = pulp.LpProblem('Exemplo1', sense = pulp.LpMaximize)"
   ]
  },
  {
   "cell_type": "code",
   "execution_count": 55,
   "metadata": {},
   "outputs": [],
   "source": [
    "#Adicionando as variáveis\n",
    "#Uma das restrições diz que os ataques dos avengers são inteiros\n",
    "x = pulp.LpVariable.dicts(indexs=[1,2,3,4,5,6,7], cat='Integer', lowBound=0, name='x')"
   ]
  },
  {
   "cell_type": "code",
   "execution_count": 56,
   "metadata": {},
   "outputs": [],
   "source": [
    "#Definição das variáveis\n",
    "\n",
    "# X1: Número de ataques do Doctor Strange\n",
    "# X2: Número de ataques do Iron Man\n",
    "# X3: Número de ataques do Thor\n",
    "# X4: Número de ataques do Captain Ameriaca\n",
    "# X5: Número de ataques do Black Widow\n",
    "# X6: Número de ataques do Spider Man\n",
    "# X7: Número de ataques do Star Lord\n",
    "\n",
    "#Adicionando as restrições\n",
    "#Restrições para energia\n",
    "model.addConstraint(33*x[1] <= 250, name='restricao_1')\n",
    "model.addConstraint(21*x[2] <= 200, name='restricao_2')\n",
    "model.addConstraint(35*x[3] <= 300, name='restricao_3')\n",
    "model.addConstraint(13*x[4] <= 130, name='restricao_4')\n",
    "model.addConstraint(11*x[5] <= 90, name='restricao_5')\n",
    "model.addConstraint(18*x[6] <= 120, name='restricao_6')\n",
    "model.addConstraint(7*x[7] <= 50, name='restricao_7')\n",
    "\n",
    "#Restrições de tempo\n",
    "model.addConstraint(22*x[1] <= 120, name='restricao_8')\n",
    "model.addConstraint(20*x[2] <= 120, name='restricao_9')\n",
    "model.addConstraint(25*x[3] <= 120, name='restricao_10')\n",
    "model.addConstraint(10*x[4] <= 120, name='restricao_11')\n",
    "model.addConstraint(19*x[5] <= 120, name='restricao_12')\n",
    "model.addConstraint(24*x[6] <= 120, name='restricao_13')\n",
    "model.addConstraint(14*x[7] <= 120, name='restricao_14')\n",
    "\n",
    "#Restrições para a estratégia usada para derrotar o thanos\n",
    "model.addConstraint(x[6] >= 5, name='restricao_15')\n",
    "model.addConstraint(x[3] <= 6, name='restricao_16')\n",
    "model.addConstraint(2*x[2] - x[1] <= 0, name='restricao_17')\n",
    "model.addConstraint(x[4] + x[5] + x[2] + x[7] - x[3] - x[1] >= 0, name='restricao_18')"
   ]
  },
  {
   "cell_type": "code",
   "execution_count": 57,
   "metadata": {},
   "outputs": [],
   "source": [
    "#Dano causado\n",
    "model.setObjective(24*x[1] + 21*x[2] + 30*x[3] + 13*x[4] + 8*x[5] + 18*x[6] + 6*x[7])"
   ]
  },
  {
   "cell_type": "code",
   "execution_count": 58,
   "metadata": {},
   "outputs": [
    {
     "data": {
      "text/plain": [
       "1"
      ]
     },
     "execution_count": 58,
     "metadata": {},
     "output_type": "execute_result"
    }
   ],
   "source": [
    "#Optimizar\n",
    "model.solve()"
   ]
  },
  {
   "cell_type": "code",
   "execution_count": 59,
   "metadata": {},
   "outputs": [
    {
     "name": "stdout",
     "output_type": "stream",
     "text": [
      "x = {1: 5.0, 2: 2.0, 3: 4.0, 4: 10.0, 5: 6.0, 6: 5.0, 7: 7.0}\n"
     ]
    }
   ],
   "source": [
    "#Obter e imprimir a solução\n",
    "x_sol = {i: x[i].value() for i in [1, 2, 3, 4, 5, 6,7]}\n",
    "print(f'x = {x_sol}')"
   ]
  },
  {
   "cell_type": "code",
   "execution_count": 69,
   "metadata": {},
   "outputs": [
    {
     "name": "stdout",
     "output_type": "stream",
     "text": [
      "1558.0\n"
     ]
    }
   ],
   "source": [
    "#Dano total causado\n",
    "print(24*x_sol[1] + 21*x_sol[2] + 30*x_sol[3] + 13*x_sol[4] + 8*x_sol[5] + 18*x_sol[6] + 6*24*x_sol[7])"
   ]
  },
  {
   "cell_type": "code",
   "execution_count": null,
   "metadata": {},
   "outputs": [],
   "source": []
  }
 ],
 "metadata": {
  "kernelspec": {
   "display_name": "Python 3",
   "language": "python",
   "name": "python3"
  },
  "language_info": {
   "codemirror_mode": {
    "name": "ipython",
    "version": 3
   },
   "file_extension": ".py",
   "mimetype": "text/x-python",
   "name": "python",
   "nbconvert_exporter": "python",
   "pygments_lexer": "ipython3",
   "version": "3.8.3"
  }
 },
 "nbformat": 4,
 "nbformat_minor": 4
}
